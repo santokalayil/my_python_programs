{
  "nbformat": 4,
  "nbformat_minor": 0,
  "metadata": {
    "kernelspec": {
      "display_name": "Python 3",
      "language": "python",
      "name": "python3"
    },
    "language_info": {
      "codemirror_mode": {
        "name": "ipython",
        "version": 3
      },
      "file_extension": ".py",
      "mimetype": "text/x-python",
      "name": "python",
      "nbconvert_exporter": "python",
      "pygments_lexer": "ipython3",
      "version": "3.7.3"
    },
    "nbclean": true,
    "colab": {
      "name": "Numpy_Advanced.ipynb",
      "provenance": [],
      "include_colab_link": true
    }
  },
  "cells": [
    {
      "cell_type": "markdown",
      "metadata": {
        "id": "view-in-github",
        "colab_type": "text"
      },
      "source": [
        "<a href=\"https://colab.research.google.com/github/santokalayil/my_python_programs/blob/master/Numpy_Advanced.ipynb\" target=\"_parent\"><img src=\"https://colab.research.google.com/assets/colab-badge.svg\" alt=\"Open In Colab\"/></a>"
      ]
    },
    {
      "cell_type": "markdown",
      "metadata": {
        "id": "PwuszGRXt5U1",
        "colab_type": "text"
      },
      "source": [
        "## NumPy\n",
        "\n",
        "First among these is NumPy. The main NumPy features are three-fold: its mathematical functions (e.g. `sin`, `log`, `floor`), its `random` submodule (useful for random sampling), and the NumPy `ndarray` object.\n",
        "\n",
        "A NumPy array is similar to a mathematical n-dimensional matrix. For example, \n",
        "\n",
        "$$\\begin{bmatrix}\n",
        "    x_{11} & x_{12} & x_{13} & \\dots  & x_{1n} \\\\\n",
        "    x_{21} & x_{22} & x_{23} & \\dots  & x_{2n} \\\\\n",
        "    \\vdots & \\vdots & \\vdots & \\ddots & \\vdots \\\\\n",
        "    x_{d1} & x_{d2} & x_{d3} & \\dots  & x_{dn}\n",
        "\\end{bmatrix}$$\n",
        "\n",
        "A NumPy array could be 1-dimensional (e.g. [1, 5, 20, 34, ...]), 2-dimensional (as above), or many dimensions. It's important to note that all the rows and columns of the 2-dimensional array are the same length. That will be true for all dimensions of arrays.\n",
        "\n",
        "Let's contrast this with lists."
      ]
    },
    {
      "cell_type": "code",
      "metadata": {
        "id": "N9Eqkhvst5U7",
        "colab_type": "code",
        "colab": {}
      },
      "source": [
        "# to access NumPy, we have to import it\n",
        "import numpy as np"
      ],
      "execution_count": 0,
      "outputs": []
    },
    {
      "cell_type": "code",
      "metadata": {
        "id": "tNkGpnJft5VA",
        "colab_type": "code",
        "colab": {}
      },
      "source": [
        "list_of_lists = [[1, 2, 3], [4, 5, 6], [7, 8, 9]]\n",
        "print(list_of_lists)"
      ],
      "execution_count": 0,
      "outputs": []
    },
    {
      "cell_type": "code",
      "metadata": {
        "id": "p4yRzGNLt5VF",
        "colab_type": "code",
        "colab": {}
      },
      "source": [
        "an_array = np.array(list_of_lists)\n",
        "print(an_array)"
      ],
      "execution_count": 0,
      "outputs": []
    },
    {
      "cell_type": "code",
      "metadata": {
        "id": "PA3uav-rt5VJ",
        "colab_type": "code",
        "colab": {}
      },
      "source": [
        "non_rectangular = [[1, 2], [3, 4, 5], [6, 7, 8, 9]]\n",
        "print(non_rectangular)"
      ],
      "execution_count": 0,
      "outputs": []
    },
    {
      "cell_type": "code",
      "metadata": {
        "id": "ygHl1xO4t5VO",
        "colab_type": "code",
        "colab": {}
      },
      "source": [
        "non_rectangular_array = np.array(non_rectangular)\n",
        "print(non_rectangular_array)"
      ],
      "execution_count": 0,
      "outputs": []
    },
    {
      "cell_type": "markdown",
      "metadata": {
        "id": "3E4l3M8wt5VU",
        "colab_type": "text"
      },
      "source": [
        "Why did these print differently? Let's investigate their _shape_ and _data type_ (`dtype`)."
      ]
    },
    {
      "cell_type": "code",
      "metadata": {
        "id": "MW4mtGx-t5VV",
        "colab_type": "code",
        "colab": {}
      },
      "source": [
        "print(an_array.shape, an_array.dtype)\n",
        "print(non_rectangular_array.shape, non_rectangular_array.dtype)"
      ],
      "execution_count": 0,
      "outputs": []
    },
    {
      "cell_type": "markdown",
      "metadata": {
        "id": "ef6j4xvyt5Va",
        "colab_type": "text"
      },
      "source": [
        "The first case, `an_array`, is a 2-dimensional 3x3 array (of integers). In contrast, `non_rectangular_array` is a 1-dimensional length 3 array (of _objects_, namely `list` objects).\n",
        "\n",
        "We can also create a variety of arrays with NumPy's convenience functions."
      ]
    },
    {
      "cell_type": "code",
      "metadata": {
        "id": "K1DZ1rmHt5Vb",
        "colab_type": "code",
        "colab": {}
      },
      "source": [
        "np.linspace(1, 10, 10)"
      ],
      "execution_count": 0,
      "outputs": []
    },
    {
      "cell_type": "code",
      "metadata": {
        "id": "hR81NiR0t5Vg",
        "colab_type": "code",
        "colab": {}
      },
      "source": [
        "np.arange(1, 10, 1)"
      ],
      "execution_count": 0,
      "outputs": []
    },
    {
      "cell_type": "code",
      "metadata": {
        "id": "Vb_lDGRbt5Vm",
        "colab_type": "code",
        "colab": {}
      },
      "source": [
        "np.logspace(1, 10, 10)"
      ],
      "execution_count": 0,
      "outputs": []
    },
    {
      "cell_type": "code",
      "metadata": {
        "id": "X91x-4gGt5Vu",
        "colab_type": "code",
        "colab": {}
      },
      "source": [
        "np.zeros(10)"
      ],
      "execution_count": 0,
      "outputs": []
    },
    {
      "cell_type": "code",
      "metadata": {
        "id": "iqsjU-iAt5Vy",
        "colab_type": "code",
        "colab": {}
      },
      "source": [
        "np.diag([1,2,3,4])"
      ],
      "execution_count": 0,
      "outputs": []
    },
    {
      "cell_type": "code",
      "metadata": {
        "id": "00hf2lQwt5V3",
        "colab_type": "code",
        "colab": {}
      },
      "source": [
        "np.eye(5)"
      ],
      "execution_count": 0,
      "outputs": []
    },
    {
      "cell_type": "markdown",
      "metadata": {
        "id": "WqPnSUWFt5V7",
        "colab_type": "text"
      },
      "source": [
        "We can also convert the `dtype` of an array after creation."
      ]
    },
    {
      "cell_type": "code",
      "metadata": {
        "id": "5Q_Q3Fnxt5V8",
        "colab_type": "code",
        "colab": {}
      },
      "source": [
        "print(np.logspace(1, 10, 10).dtype)\n",
        "print(np.logspace(1, 10, 10).astype(int).dtype)"
      ],
      "execution_count": 0,
      "outputs": []
    },
    {
      "cell_type": "markdown",
      "metadata": {
        "id": "3ajMoWRwt5WA",
        "colab_type": "text"
      },
      "source": [
        "Why does any of this matter?\n",
        "\n",
        "Arrays are often more efficient in terms of code as well as computational resources for certain calculations. Computationally this efficiency comes from the fact that we pre-allocate a contiguous block of memory for the results of our computation.\n",
        "\n",
        "To explore the advantages in code, let's try to do some math on these numbers.\n",
        "\n",
        "First let's simply calculate the sum of all the numbers and look at the differences in the necessary code for `list_of_lists`, `an_array`, and `non_rectangular_array`."
      ]
    },
    {
      "cell_type": "code",
      "metadata": {
        "id": "zKmGePP9t5WC",
        "colab_type": "code",
        "colab": {}
      },
      "source": [
        "print(sum([sum(inner_list) for inner_list in list_of_lists]))\n",
        "print(an_array.sum())"
      ],
      "execution_count": 0,
      "outputs": []
    },
    {
      "cell_type": "markdown",
      "metadata": {
        "id": "pzHTXZsxt5WJ",
        "colab_type": "text"
      },
      "source": [
        "Summing the numbers in an array is much easier than for a list of lists. We don't have to dig into a hierarchy of lists, we just use the `sum` method of the `ndarray`. Does this still work for `non_rectangular_array`?"
      ]
    },
    {
      "cell_type": "code",
      "metadata": {
        "id": "1ulfzu1Bt5WK",
        "colab_type": "code",
        "colab": {}
      },
      "source": [
        "# what happens here?\n",
        "print(non_rectangular_array.sum())"
      ],
      "execution_count": 0,
      "outputs": []
    },
    {
      "cell_type": "markdown",
      "metadata": {
        "id": "GK0kJcrFt5WP",
        "colab_type": "text"
      },
      "source": [
        "Remember `non_rectangular_array` is a 1-dimensional array of `list` objects. The `sum` method tries to add them together: first list + second list + third list. Addition of lists results in _concatenation_."
      ]
    },
    {
      "cell_type": "code",
      "metadata": {
        "id": "24TjJ-Bxt5WQ",
        "colab_type": "code",
        "colab": {}
      },
      "source": [
        "# concatenate three lists\n",
        "print([1, 2] + [3, 4, 5] + [6, 7, 8, 9])"
      ],
      "execution_count": 0,
      "outputs": []
    },
    {
      "cell_type": "markdown",
      "metadata": {
        "id": "_LS75gJst5WU",
        "colab_type": "text"
      },
      "source": [
        "The contrast becomes even more clear when we try to sum rows or columns individually."
      ]
    },
    {
      "cell_type": "code",
      "metadata": {
        "id": "WTH-tcg2t5WV",
        "colab_type": "code",
        "colab": {}
      },
      "source": [
        "print('Array row sums: ', an_array.sum(axis=1))\n",
        "print('Array column sums: ', an_array.sum(axis=0))"
      ],
      "execution_count": 0,
      "outputs": []
    },
    {
      "cell_type": "code",
      "metadata": {
        "id": "5SQ6dlplt5Wd",
        "colab_type": "code",
        "colab": {}
      },
      "source": [
        "print('List of list row sums: ', [sum(inner_list) for inner_list in list_of_lists])\n",
        "\n",
        "def column_sum(list_of_lists):\n",
        "    running_sums = [0] * len(list_of_lists[0])\n",
        "    for inner_list in list_of_lists:\n",
        "        for i, number in enumerate(inner_list):\n",
        "            running_sums[i] += number\n",
        "            \n",
        "    return running_sums\n",
        "\n",
        "print('List of list column sums: ', column_sum(list_of_lists))"
      ],
      "execution_count": 0,
      "outputs": []
    },
    {
      "cell_type": "markdown",
      "metadata": {
        "id": "yvZcwad_t5Wl",
        "colab_type": "text"
      },
      "source": [
        "Generally it is much more natural to do mathematical operations with arrays than lists."
      ]
    },
    {
      "cell_type": "code",
      "metadata": {
        "id": "Gq5uQQyZt5Wn",
        "colab_type": "code",
        "colab": {}
      },
      "source": [
        "a = np.array([1, 2, 3, 4, 5])\n",
        "print(a + 5) # add a scalar\n",
        "print(a * 5) # multiply by a scalar\n",
        "print(a / 5) # divide by a scalar (note the float!)"
      ],
      "execution_count": 0,
      "outputs": []
    },
    {
      "cell_type": "code",
      "metadata": {
        "id": "mPCnguevt5Wq",
        "colab_type": "code",
        "colab": {}
      },
      "source": [
        "b = a + 1\n",
        "print(a + b) # add together two arrays\n",
        "print(a * b) # multiply two arrays (element-wise)\n",
        "print(a / b.astype(float)) # divide two arrays (element-wise)"
      ],
      "execution_count": 0,
      "outputs": []
    },
    {
      "cell_type": "markdown",
      "metadata": {
        "id": "Hc-nBy22t5Wu",
        "colab_type": "text"
      },
      "source": [
        "Arrays can also be used for linear algebra, acting as vectors, matrices, tensors, etc."
      ]
    },
    {
      "cell_type": "code",
      "metadata": {
        "id": "n-3O3llmt5Wv",
        "colab_type": "code",
        "colab": {}
      },
      "source": [
        "print(np.dot(a, b)) # inner product of two arrays\n",
        "print(np.outer(a, b)) # outer product of two arrays"
      ],
      "execution_count": 0,
      "outputs": []
    },
    {
      "cell_type": "markdown",
      "metadata": {
        "id": "HN2V_SsGt5Wz",
        "colab_type": "text"
      },
      "source": [
        "Arrays have a lot to offer us in terms of representing and analyzing data, since we can easily apply mathematical functions to data sets or sections of data sets. Most of the time we won't run into any trouble using arrays, but it's good to be mindful of the restrictions around shape and datatype.\n",
        "\n",
        "These restrictions around `shape` and `dtype` allow the `ndarray` objects to be much more performant compared to a general Python `list`.  There are few reasons for this, but the main two result from the typed nature of the `ndarray`, as this allows contiguous memory storage and consistent function lookup.  When a Python `list` is summed, Python needs to figure out at runtime the correct way in which to add each element of the list together.  When an `ndarray` is summed, `NumPy` already knows the type of the each element (and they are consistent), thus it can sum them without checking the correct add function for each element.\n",
        "\n",
        "Lets see this in action by doing some basic profiling.  First we will create a list of 100000 random elements and then time the sum function."
      ]
    },
    {
      "cell_type": "code",
      "metadata": {
        "id": "kVdcflnet5W0",
        "colab_type": "code",
        "colab": {}
      },
      "source": [
        "time_list = [np.random.random() for _ in range(100000)]\n",
        "time_arr = np.array(time_list)"
      ],
      "execution_count": 0,
      "outputs": []
    },
    {
      "cell_type": "code",
      "metadata": {
        "id": "LFdaz4LJt5W7",
        "colab_type": "code",
        "colab": {}
      },
      "source": [
        "%%timeit \n",
        "sum(time_list)"
      ],
      "execution_count": 0,
      "outputs": []
    },
    {
      "cell_type": "code",
      "metadata": {
        "id": "0_ifycnwt5W-",
        "colab_type": "code",
        "colab": {}
      },
      "source": [
        "%%timeit\n",
        "np.sum(time_arr)"
      ],
      "execution_count": 0,
      "outputs": []
    },
    {
      "cell_type": "markdown",
      "metadata": {
        "id": "NQhOJPdQt5XC",
        "colab_type": "text"
      },
      "source": [
        "### Universal functions\n",
        "\n",
        "`NumPy` defines a `ufunc` which allows it to efficiently run functions over arrays.  Many of these functions are built in, such as `np.cos`, and implemented in highly performance compiled `C` code.  These functions can perform `broadcasting` which allows them to automatically handle operations between arrays of different shapes, for example two arrays with the same shape, or an array and a scalar."
      ]
    },
    {
      "cell_type": "markdown",
      "metadata": {
        "id": "FTHCh2wYt5XD",
        "colab_type": "text"
      },
      "source": [
        "### Changing Shape\n",
        "\n",
        "Often we will want to take arrays that are one shape and transform them to a different shape more amenable to a specific operation."
      ]
    },
    {
      "cell_type": "code",
      "metadata": {
        "id": "QL_IFM8Lt5XF",
        "colab_type": "code",
        "colab": {}
      },
      "source": [
        "mat = np.random.rand(20, 10)"
      ],
      "execution_count": 0,
      "outputs": []
    },
    {
      "cell_type": "code",
      "metadata": {
        "id": "oPfFcFQXt5XJ",
        "colab_type": "code",
        "colab": {}
      },
      "source": [
        "mat.reshape(40, 5).shape"
      ],
      "execution_count": 0,
      "outputs": []
    },
    {
      "cell_type": "code",
      "metadata": {
        "id": "txLWSHvVt5XR",
        "colab_type": "code",
        "colab": {}
      },
      "source": [
        "%%expect_exception ValueError\n",
        "\n",
        "mat.reshape(30, 5)"
      ],
      "execution_count": 0,
      "outputs": []
    },
    {
      "cell_type": "code",
      "metadata": {
        "id": "frvS35ASt5XV",
        "colab_type": "code",
        "colab": {}
      },
      "source": [
        "mat.ravel().shape"
      ],
      "execution_count": 0,
      "outputs": []
    },
    {
      "cell_type": "code",
      "metadata": {
        "id": "ltUvrvDot5Xa",
        "colab_type": "code",
        "colab": {}
      },
      "source": [
        "mat.transpose().shape"
      ],
      "execution_count": 0,
      "outputs": []
    },
    {
      "cell_type": "markdown",
      "metadata": {
        "id": "FpI7t-9ot5Xf",
        "colab_type": "text"
      },
      "source": [
        "### Combining arrays"
      ]
    },
    {
      "cell_type": "code",
      "metadata": {
        "id": "SPpT1f2zt5Xg",
        "colab_type": "code",
        "colab": {}
      },
      "source": [
        "print(a)\n",
        "print(b)"
      ],
      "execution_count": 0,
      "outputs": []
    },
    {
      "cell_type": "code",
      "metadata": {
        "id": "p3Js8xbRt5Xl",
        "colab_type": "code",
        "colab": {}
      },
      "source": [
        "np.hstack((a, b))"
      ],
      "execution_count": 0,
      "outputs": []
    },
    {
      "cell_type": "code",
      "metadata": {
        "id": "sRHSH5Mnt5Xq",
        "colab_type": "code",
        "colab": {}
      },
      "source": [
        "np.vstack((a, b))"
      ],
      "execution_count": 0,
      "outputs": []
    },
    {
      "cell_type": "code",
      "metadata": {
        "id": "hLrnMb7dt5Xt",
        "colab_type": "code",
        "colab": {}
      },
      "source": [
        "np.dstack((a, b))"
      ],
      "execution_count": 0,
      "outputs": []
    },
    {
      "cell_type": "markdown",
      "metadata": {
        "id": "uRyAGHj-t5Xy",
        "colab_type": "text"
      },
      "source": [
        "### Basic data aggregation\n",
        "\n",
        "Let's explore some more examples of using arrays, this time using NumPy's `random` submodule to create some \"fake data\". Simulating data is useful for testing and prototyping new techniques or code, and some algorithms even require random input."
      ]
    },
    {
      "cell_type": "code",
      "metadata": {
        "id": "_BcwwqZet5Xz",
        "colab_type": "code",
        "colab": {}
      },
      "source": [
        "np.random.seed(42)\n",
        "jan_coffee_sales = np.random.randint(25, 200, size=(4, 7))\n",
        "print(jan_coffee_sales)"
      ],
      "execution_count": 0,
      "outputs": []
    },
    {
      "cell_type": "code",
      "metadata": {
        "id": "oe0e_W2It5X2",
        "colab_type": "code",
        "colab": {}
      },
      "source": [
        "# mean sales\n",
        "print('Mean coffees sold per day in January: %d' % jan_coffee_sales.mean())"
      ],
      "execution_count": 0,
      "outputs": []
    },
    {
      "cell_type": "code",
      "metadata": {
        "id": "pk-lFIout5X5",
        "colab_type": "code",
        "colab": {}
      },
      "source": [
        "# mean sales for Monday\n",
        "print('Mean coffees sold on Monday in January: %d' % jan_coffee_sales[:, 1].mean())"
      ],
      "execution_count": 0,
      "outputs": []
    },
    {
      "cell_type": "code",
      "metadata": {
        "id": "pKU39IU1t5YA",
        "colab_type": "code",
        "colab": {}
      },
      "source": [
        "# day with most sales\n",
        "# remember we count dates from 1, not 0!\n",
        "print('Day with highest sales was January %d' % (jan_coffee_sales.argmax() + 1))"
      ],
      "execution_count": 0,
      "outputs": []
    },
    {
      "cell_type": "code",
      "metadata": {
        "id": "2ny8aBc-t5YL",
        "colab_type": "code",
        "colab": {}
      },
      "source": [
        "# is there a weekly periodicity?\n",
        "from fractions import Fraction\n",
        "\n",
        "normalized_sales = (jan_coffee_sales - jan_coffee_sales.mean()) / abs(jan_coffee_sales - jan_coffee_sales.mean()).max()\n",
        "frequencies = [Fraction.from_float(f).limit_denominator() for f in np.fft.fftfreq(normalized_sales.size)]\n",
        "power = np.abs(np.fft.fft(normalized_sales.ravel()))**2\n",
        "list(zip(frequencies, power))[:len(power) // 2]"
      ],
      "execution_count": 0,
      "outputs": []
    },
    {
      "cell_type": "markdown",
      "metadata": {
        "id": "HOcWHw6ot5YO",
        "colab_type": "text"
      },
      "source": [
        "Some of the functions we used above do not exist in standard Python and are provided to us by NumPy. Additionally we see that we can use the shape of an array to help us compute statistics on a subset of our data (e.g. mean number of coffees sold on Mondays). But one of the most powerful things we can do to explore data is to simply visualize it."
      ]
    },
    {
      "cell_type": "markdown",
      "metadata": {
        "id": "kliAD9wdt5YP",
        "colab_type": "text"
      },
      "source": [
        "*Copyright &copy; Avinash.  All rights reserved.*"
      ]
    }
  ]
}