{
  "nbformat": 4,
  "nbformat_minor": 0,
  "metadata": {
    "kernelspec": {
      "display_name": "Python 3",
      "language": "python",
      "name": "python3"
    },
    "language_info": {
      "codemirror_mode": {
        "name": "ipython",
        "version": 3
      },
      "file_extension": ".py",
      "mimetype": "text/x-python",
      "name": "python",
      "nbconvert_exporter": "python",
      "pygments_lexer": "ipython3",
      "version": "3.7.3"
    },
    "colab": {
      "name": "20 Numpy Exercises.ipynb",
      "provenance": [],
      "include_colab_link": true
    }
  },
  "cells": [
    {
      "cell_type": "markdown",
      "metadata": {
        "id": "view-in-github",
        "colab_type": "text"
      },
      "source": [
        "<a href=\"https://colab.research.google.com/github/santokalayil/my_python_programs/blob/master/20_Numpy_Exercises.ipynb\" target=\"_parent\"><img src=\"https://colab.research.google.com/assets/colab-badge.svg\" alt=\"Open In Colab\"/></a>"
      ]
    },
    {
      "cell_type": "markdown",
      "metadata": {
        "id": "RZYSAQf9HkL4",
        "colab_type": "text"
      },
      "source": [
        "### 1. Import numpy as np and see the version\n",
        "Difficulty Level: L1\n",
        "\n",
        "Q. Import numpy as np and print the version number."
      ]
    },
    {
      "cell_type": "code",
      "metadata": {
        "id": "4jbGJ-GQHkL-",
        "colab_type": "code",
        "colab": {}
      },
      "source": [
        ""
      ],
      "execution_count": 0,
      "outputs": []
    },
    {
      "cell_type": "markdown",
      "metadata": {
        "id": "Li0QCbdAHkME",
        "colab_type": "text"
      },
      "source": [
        "### 2. How to create a 1D array?\n",
        "Difficulty Level: L1\n",
        "\n",
        "Q. Create a 1D array of numbers from 0 to 9  \n",
        "  \n",
        "  Desired output:\n",
        "\n",
        "#> array([0, 1, 2, 3, 4, 5, 6, 7, 8, 9])"
      ]
    },
    {
      "cell_type": "markdown",
      "metadata": {
        "id": "NOQP4wKKHkMG",
        "colab_type": "text"
      },
      "source": [
        ""
      ]
    },
    {
      "cell_type": "markdown",
      "metadata": {
        "id": "6yjenTPHHkMH",
        "colab_type": "text"
      },
      "source": [
        "### 3. How to create a boolean array?\n",
        "Difficulty Level: L1\n",
        "\n",
        "Q. Create a 3×3 numpy array of all True’s"
      ]
    },
    {
      "cell_type": "code",
      "metadata": {
        "id": "hO0C1qDzHkMJ",
        "colab_type": "code",
        "colab": {}
      },
      "source": [
        ""
      ],
      "execution_count": 0,
      "outputs": []
    },
    {
      "cell_type": "markdown",
      "metadata": {
        "id": "rFuRL-A7HkMO",
        "colab_type": "text"
      },
      "source": [
        "### 4. How to extract items that satisfy a given condition from 1D array?\n",
        "Difficulty Level: L1\n",
        "\n",
        "Q. Extract all odd numbers from arr  \n",
        "Input:\n",
        "\n",
        "arr = np.array([0, 1, 2, 3, 4, 5, 6, 7, 8, 9])\n",
        "Desired output:\n",
        "\n",
        "#> array([1, 3, 5, 7, 9])"
      ]
    },
    {
      "cell_type": "code",
      "metadata": {
        "id": "sSb1nqGNHkMP",
        "colab_type": "code",
        "colab": {}
      },
      "source": [
        ""
      ],
      "execution_count": 0,
      "outputs": []
    },
    {
      "cell_type": "markdown",
      "metadata": {
        "id": "UIxwse3sHkMU",
        "colab_type": "text"
      },
      "source": [
        "### 5. How to replace items that satisfy a condition with another value in numpy array?\n",
        "Difficulty Level: L1\n",
        "\n",
        "Q. Replace all odd numbers in arr with -1  \n",
        " \n",
        "Input:\n",
        "\n",
        "arr = np.array([0, 1, 2, 3, 4, 5, 6, 7, 8, 9])  \n",
        "Desired Output:\n",
        "\n",
        "#>  array([ 0, -1,  2, -1,  4, -1,  6, -1,  8, -1])"
      ]
    },
    {
      "cell_type": "code",
      "metadata": {
        "id": "fi4AapeZHkMX",
        "colab_type": "code",
        "colab": {}
      },
      "source": [
        ""
      ],
      "execution_count": 0,
      "outputs": []
    },
    {
      "cell_type": "markdown",
      "metadata": {
        "id": "lm7wu3zOHkMd",
        "colab_type": "text"
      },
      "source": [
        "### 6. How to replace items that satisfy a condition without affecting the original array?\n",
        "Difficulty Level: L2\n",
        "\n",
        "Q. Replace all odd numbers in arr with -1 without changing arr\n",
        "\n",
        "Input:\n",
        "\n",
        "arr = np.array([0, 1, 2, 3, 4, 5, 6, 7, 8, 9])  \n",
        "Desired Output:\n",
        "\n",
        "out\n",
        "#>  array([ 0, -1,  2, -1,  4, -1,  6, -1,  8, -1])\n",
        "arr\n",
        "#>  array([0, 1, 2, 3, 4, 5, 6, 7, 8, 9])"
      ]
    },
    {
      "cell_type": "code",
      "metadata": {
        "id": "q_CdGU_jHkMf",
        "colab_type": "code",
        "colab": {}
      },
      "source": [
        ""
      ],
      "execution_count": 0,
      "outputs": []
    },
    {
      "cell_type": "markdown",
      "metadata": {
        "id": "nBoGaPPtHkMl",
        "colab_type": "text"
      },
      "source": [
        "### 7. How to reshape an array?\n",
        "Difficulty Level: L1\n",
        "\n",
        "Q. Convert a 1D array to a 2D array with 2 rows\n",
        "\n",
        "Input:\n",
        "\n",
        "np.arange(10)\n",
        "\n",
        "#> array([ 0, 1, 2, 3, 4, 5, 6, 7, 8, 9])  \n",
        "Desired Output:\n",
        "\n",
        "#> array([[0, 1, 2, 3, 4],\n",
        "#>        [5, 6, 7, 8, 9]])"
      ]
    },
    {
      "cell_type": "code",
      "metadata": {
        "id": "fpKjTZWwHkMm",
        "colab_type": "code",
        "colab": {}
      },
      "source": [
        ""
      ],
      "execution_count": 0,
      "outputs": []
    },
    {
      "cell_type": "markdown",
      "metadata": {
        "id": "Nq9Va-N4HkMq",
        "colab_type": "text"
      },
      "source": [
        "### 8. How to stack two arrays vertically?\n",
        "Difficulty Level: L2\n",
        "\n",
        "Q. Stack arrays a and b vertically\n",
        "\n",
        "Input\n",
        "\n",
        "a = np.arange(10).reshape(2,-1)\n",
        "b = np.repeat(1, 10).reshape(2,-1)  \n",
        "Desired Output:\n",
        "\n",
        "#> array([[0, 1, 2, 3, 4],\n",
        "#>        [5, 6, 7, 8, 9],\n",
        "#>        [1, 1, 1, 1, 1],\n",
        "#>        [1, 1, 1, 1, 1]]"
      ]
    },
    {
      "cell_type": "code",
      "metadata": {
        "id": "dCSAAX2aHkMr",
        "colab_type": "code",
        "colab": {}
      },
      "source": [
        ""
      ],
      "execution_count": 0,
      "outputs": []
    },
    {
      "cell_type": "markdown",
      "metadata": {
        "id": "fHwsMf4mHkMw",
        "colab_type": "text"
      },
      "source": [
        "### 9. How to stack two arrays horizontally?\n",
        "Difficulty Level: L2\n",
        "\n",
        "Q. Stack the arrays a and b horizontally.\n",
        "\n",
        "Input\n",
        "\n",
        "a = np.arange(10).reshape(2,-1)\n",
        "\n",
        "b = np.repeat(1, 10).reshape(2,-1)  \n",
        "Desired Output:\n",
        "\n",
        "#> array([[0, 1, 2, 3, 4, 1, 1, 1, 1, 1],\n",
        "#>        [5, 6, 7, 8, 9, 1, 1, 1, 1, 1]])"
      ]
    },
    {
      "cell_type": "code",
      "metadata": {
        "id": "uUv8oahpHkMz",
        "colab_type": "code",
        "colab": {}
      },
      "source": [
        ""
      ],
      "execution_count": 0,
      "outputs": []
    },
    {
      "cell_type": "markdown",
      "metadata": {
        "id": "PT0O2kt-HkM4",
        "colab_type": "text"
      },
      "source": [
        "### 10. How to generate custom sequences in numpy without hardcoding?\n",
        "Difficulty Level: L2\n",
        "\n",
        "Q. Create the following pattern without hardcoding. Use only numpy functions and the below input array a.\n",
        "\n",
        "Input:\n",
        "\n",
        "a = np.array([1,2,3])`   \n",
        "Desired Output:\n",
        "\n",
        "#> array([1, 1, 1, 2, 2, 2, 3, 3, 3, 1, 2, 3, 1, 2, 3, 1, 2, 3])"
      ]
    },
    {
      "cell_type": "code",
      "metadata": {
        "id": "aOlksL3IHkM5",
        "colab_type": "code",
        "colab": {}
      },
      "source": [
        ""
      ],
      "execution_count": 0,
      "outputs": []
    },
    {
      "cell_type": "markdown",
      "metadata": {
        "id": "3P2aSXTSHkM9",
        "colab_type": "text"
      },
      "source": [
        "### 11. How to get the common items between two python numpy arrays?\n",
        "Difficulty Level: L2\n",
        "\n",
        "Q. Get the common items between a and b\n",
        "\n",
        "Input:\n",
        "\n",
        "a = np.array([1,2,3,2,3,4,3,4,5,6])\n",
        "b = np.array([7,2,10,2,7,4,9,4,9,8])  \n",
        "Desired Output:\n",
        "\n",
        "array([2, 4])"
      ]
    },
    {
      "cell_type": "code",
      "metadata": {
        "id": "iDUTqeZpHkM-",
        "colab_type": "code",
        "colab": {}
      },
      "source": [
        ""
      ],
      "execution_count": 0,
      "outputs": []
    },
    {
      "cell_type": "markdown",
      "metadata": {
        "id": "CCkJKSVyHkNC",
        "colab_type": "text"
      },
      "source": [
        "### 12. How to remove from one array those items that exist in another?\n",
        "Difficulty Level: L2\n",
        "\n",
        "Q. From array a remove all items present in array b\n",
        "\n",
        "Input:\n",
        "\n",
        "a = np.array([1,2,3,4,5])\n",
        "b = np.array([5,6,7,8,9])   \n",
        "Desired Output:\n",
        "\n",
        "array([1,2,3,4])"
      ]
    },
    {
      "cell_type": "code",
      "metadata": {
        "id": "lEVCSBX2HkND",
        "colab_type": "code",
        "colab": {}
      },
      "source": [
        ""
      ],
      "execution_count": 0,
      "outputs": []
    },
    {
      "cell_type": "markdown",
      "metadata": {
        "id": "eSsQq3D-HkNI",
        "colab_type": "text"
      },
      "source": [
        "### 13. How to get the positions where elements of two arrays match?\n",
        "Difficulty Level: L2\n",
        "\n",
        "Q. Get the positions where elements of a and b match\n",
        "\n",
        "Input:\n",
        "\n",
        "a = np.array([1,2,3,2,3,4,3,4,5,6])\n",
        "b = np.array([7,2,10,2,7,4,9,4,9,8])  \n",
        "Desired Output:\n",
        "\n",
        "#> (array([1, 3, 5, 7]),)"
      ]
    },
    {
      "cell_type": "code",
      "metadata": {
        "id": "WvXwTReJHkNL",
        "colab_type": "code",
        "colab": {}
      },
      "source": [
        ""
      ],
      "execution_count": 0,
      "outputs": []
    },
    {
      "cell_type": "markdown",
      "metadata": {
        "id": "EE-s3P23HkNQ",
        "colab_type": "text"
      },
      "source": [
        "### 14. How to extract all numbers between a given range from a numpy array?\n",
        "Difficulty Level: L2\n",
        "\n",
        "Q. Get all items between 5 and 10 from a.\n",
        "\n",
        "Input:\n",
        "\n",
        "a = np.array([2, 6, 1, 9, 10, 3, 27])  \n",
        "Desired Output:\n",
        "\n",
        "(array([6, 9, 10]),)"
      ]
    },
    {
      "cell_type": "code",
      "metadata": {
        "id": "j4_BfxjYHkNR",
        "colab_type": "code",
        "colab": {}
      },
      "source": [
        ""
      ],
      "execution_count": 0,
      "outputs": []
    },
    {
      "cell_type": "markdown",
      "metadata": {
        "id": "-XsvFD9HHkNV",
        "colab_type": "text"
      },
      "source": [
        "### 15. How to make a python function that handles scalars to work on numpy arrays?\n",
        "Difficulty Level: L2\n",
        "\n",
        "Q. Convert the function maxx that works on two scalars, to work on two arrays.\n",
        "\n",
        "Input:\n",
        "\n",
        "def maxx(x, y):\n",
        "    \"\"\"Get the maximum of two items\"\"\"\n",
        "    if x >= y:\n",
        "        return x\n",
        "    else:\n",
        "        return y\n",
        "\n",
        "maxx(1, 5)\n",
        "#> 5  \n",
        "Desired Output:\n",
        "\n",
        "a = np.array([5, 7, 9, 8, 6, 4, 5])\n",
        "b = np.array([6, 3, 4, 8, 9, 7, 1])\n",
        "pair_max(a, b)\n",
        "#> array([ 6.,  7.,  9.,  8.,  9.,  7.,  5.])"
      ]
    },
    {
      "cell_type": "code",
      "metadata": {
        "id": "u55OOObrHkNW",
        "colab_type": "code",
        "colab": {}
      },
      "source": [
        ""
      ],
      "execution_count": 0,
      "outputs": []
    },
    {
      "cell_type": "markdown",
      "metadata": {
        "id": "MgeeQZPGHkNa",
        "colab_type": "text"
      },
      "source": [
        "### 16. How to swap two columns in a 2d numpy array?\n",
        "Difficulty Level: L2\n",
        "\n",
        "Q. Swap columns 1 and 2 in the array arr.\n",
        "\n",
        "arr = np.arange(9).reshape(3,3)\n",
        "arr"
      ]
    },
    {
      "cell_type": "code",
      "metadata": {
        "id": "sdO9V-aJHkNb",
        "colab_type": "code",
        "colab": {}
      },
      "source": [
        ""
      ],
      "execution_count": 0,
      "outputs": []
    },
    {
      "cell_type": "markdown",
      "metadata": {
        "id": "9QeSBQjXHkNf",
        "colab_type": "text"
      },
      "source": [
        "### 17. How to swap two rows in a 2d numpy array?\n",
        "Difficulty Level: L2\n",
        "\n",
        "Q. Swap rows 1 and 2 in the array arr:\n",
        "\n",
        "arr = np.arange(9).reshape(3,3)\n",
        "arr"
      ]
    },
    {
      "cell_type": "code",
      "metadata": {
        "id": "lymlvgWoHkNg",
        "colab_type": "code",
        "colab": {}
      },
      "source": [
        ""
      ],
      "execution_count": 0,
      "outputs": []
    },
    {
      "cell_type": "markdown",
      "metadata": {
        "id": "KFucBbGDHkNr",
        "colab_type": "text"
      },
      "source": [
        "### 18. How to reverse the rows of a 2D array?\n",
        "Difficulty Level: L2\n",
        "\n",
        "Q. Reverse the rows of a 2D array arr.\n",
        "\n",
        "Input  \n",
        "arr = np.arange(9).reshape(3,3)"
      ]
    },
    {
      "cell_type": "code",
      "metadata": {
        "id": "ZQfZj80fHkNs",
        "colab_type": "code",
        "colab": {}
      },
      "source": [
        ""
      ],
      "execution_count": 0,
      "outputs": []
    },
    {
      "cell_type": "markdown",
      "metadata": {
        "id": "EntaZlezHkNw",
        "colab_type": "text"
      },
      "source": [
        "### 19. How to reverse the columns of a 2D array?\n",
        "Difficulty Level: L2\n",
        "\n",
        "Q. Reverse the columns of a 2D array arr.\n",
        "\n",
        "Input  \n",
        "arr = np.arange(9).reshape(3,3)"
      ]
    },
    {
      "cell_type": "code",
      "metadata": {
        "id": "zVjECGinHkNx",
        "colab_type": "code",
        "colab": {}
      },
      "source": [
        ""
      ],
      "execution_count": 0,
      "outputs": []
    },
    {
      "cell_type": "markdown",
      "metadata": {
        "id": "xMegmglSHkN1",
        "colab_type": "text"
      },
      "source": [
        "### 20. How to create a 2D array containing random floats between 5 and 10?\n",
        "Difficulty Level: L2\n",
        "\n",
        "Q. Create a 2D array of shape 5x3 to contain random decimal numbers between 5 and 10."
      ]
    },
    {
      "cell_type": "code",
      "metadata": {
        "id": "bYn2dDvlHkN2",
        "colab_type": "code",
        "colab": {}
      },
      "source": [
        ""
      ],
      "execution_count": 0,
      "outputs": []
    },
    {
      "cell_type": "markdown",
      "metadata": {
        "id": "qY0CYrQiHkN6",
        "colab_type": "text"
      },
      "source": [
        "*Copyright &copy; Avinash.  All rights reserved.*"
      ]
    }
  ]
}