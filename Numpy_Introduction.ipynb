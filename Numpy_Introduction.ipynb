{
  "nbformat": 4,
  "nbformat_minor": 0,
  "metadata": {
    "kernelspec": {
      "display_name": "Python 3",
      "language": "python",
      "name": "python3"
    },
    "language_info": {
      "codemirror_mode": {
        "name": "ipython",
        "version": 3
      },
      "file_extension": ".py",
      "mimetype": "text/x-python",
      "name": "python",
      "nbconvert_exporter": "python",
      "pygments_lexer": "ipython3",
      "version": "3.7.3"
    },
    "colab": {
      "name": "Numpy_Introduction.ipynb",
      "provenance": [],
      "include_colab_link": true
    }
  },
  "cells": [
    {
      "cell_type": "markdown",
      "metadata": {
        "id": "view-in-github",
        "colab_type": "text"
      },
      "source": [
        "<a href=\"https://colab.research.google.com/github/santokalayil/my_python_programs/blob/master/Numpy_Introduction.ipynb\" target=\"_parent\"><img src=\"https://colab.research.google.com/assets/colab-badge.svg\" alt=\"Open In Colab\"/></a>"
      ]
    },
    {
      "cell_type": "markdown",
      "metadata": {
        "id": "MKQ0WwKzjhvI",
        "colab_type": "text"
      },
      "source": [
        "# Numpy\n",
        "\n",
        "NumPy is meant for creating homogeneous n-dimensional arrays (n = 1..n). Unlike Python lists, all elements of a NumPy array should be of same type. so the following code is not valid if data type is provided"
      ]
    },
    {
      "cell_type": "code",
      "metadata": {
        "id": "u5MHuyuhjhvW",
        "colab_type": "code",
        "colab": {}
      },
      "source": [
        "numpy_arr = np.array([1,2,\"Hello\",3,\"World\"], dtype=np.int32)  # Error"
      ],
      "execution_count": 0,
      "outputs": []
    },
    {
      "cell_type": "markdown",
      "metadata": {
        "id": "2Y3tHsBnjhwB",
        "colab_type": "text"
      },
      "source": [
        "However, for python lists, this is a valid code"
      ]
    },
    {
      "cell_type": "code",
      "metadata": {
        "id": "to34c3BUjhwI",
        "colab_type": "code",
        "colab": {}
      },
      "source": [
        "py_arr = [1,2,\"Hello\",3,\"World\"]  # Valid Code"
      ],
      "execution_count": 0,
      "outputs": []
    },
    {
      "cell_type": "markdown",
      "metadata": {
        "id": "ZKm9-m61jhwU",
        "colab_type": "text"
      },
      "source": [
        "## Advantages of Numpy\n",
        "\n",
        "### 1. NumPy uses much less memory to store data\n",
        "The NumPy arrays takes significantly less amount of memory as compared to python lists. It also provides a mechanism of specifying the data types of the contents, which allows further optimisation of the code.\n",
        "As an example, we can create a simple array of six elements using a python list as well as by using numpy.array(...) , The difference in amount of memory occupied by it is quite astounding. See the example below"
      ]
    },
    {
      "cell_type": "code",
      "metadata": {
        "id": "T8CEeUoPjhwX",
        "colab_type": "code",
        "colab": {}
      },
      "source": [
        "import numpy as np\n",
        "\n",
        "py_arr = [1,2,3,4,5,6]\n",
        "numpy_arr = np.array([1,2,3,4,5,6])\n",
        "\n",
        "sizeof_py_arr = sys.getsizeof(1) * len(py_arr)           # Size = 168\n",
        "sizeof_numpy_arr = numpy_arr.itemsize * numpy_arr.size   # Size = 48"
      ],
      "execution_count": 0,
      "outputs": []
    },
    {
      "cell_type": "markdown",
      "metadata": {
        "id": "_3Ie0RL8jhwg",
        "colab_type": "text"
      },
      "source": [
        "### 2. Using NumPy for creating n-dimension arrays\n",
        "An n-dimension array is generally used for creating a matrix or tensors, again mainly for the mathematical calculation purpose. Compare to python list base n-dimension arrays, NumPy not only saves the memory usage, it provide a significant number of additional benefits which makes it easy to mathematical calculations\n",
        "Here is a list of things we can do with NumPy n-dimensional arrays which is otherwise difficult to do.\n",
        "The dimensions of the array can be changed at runtime as long as the multiplicity factor produces the same number of elements. For example, a 2 * 5 matrix can be converted into 5 * 2 and a 1 * 4 into 2 * 2. This can be done by calling the NumPy .reshape(...) function on the arrays"
      ]
    },
    {
      "cell_type": "code",
      "metadata": {
        "id": "fNAvKPRpjhwj",
        "colab_type": "code",
        "colab": {}
      },
      "source": [
        "import numpy as np\n",
        "# A 2 * 5 matrix\n",
        "np_md_arr = np.array ( [ \n",
        "                        [1, 2, 3, 4, 5],\n",
        "                        [6, 7, 8, 9, 10]\n",
        "                        ] )\n",
        "\n",
        "# Creates a 5 * 2 Matrix\n",
        "# [ [1,2], [3,4], [5,6], [7,8], [9,10]]\n",
        "np_modmd_arr = np_md_arr.reshape(5,2) \n",
        "\n",
        "# A 1 * 4 Matrix\n",
        "np_md_arr2 = np.array ( [1, 2, 3, 4] )\n",
        "\n",
        "# Creates a 2 * 2 Matrix\n",
        "#[ [1,2], [3,4] ]\n",
        "np_modmd_arr2 = np_md_arr2.reshape(2,2)"
      ],
      "execution_count": 0,
      "outputs": []
    },
    {
      "cell_type": "markdown",
      "metadata": {
        "id": "dJXl6OBCjhws",
        "colab_type": "text"
      },
      "source": [
        "### 3. Mathematical operations on NumPy n-Dimension Arrays\n",
        "As stated earlier, NumPy is not only about efficient storing the data, it also makes it extremely easy to perform mathematical operations on it. Any actions on n-dimension arrays behaves exactly similar to mathematical operations.\n",
        "NumPy n-dimensional arrays makes it extremely easy to perform mathematical operations on it\n",
        "This is the main USP of NumPy because of which it’s widely used in data analytic community. The python lists are nowhere near to what it can do. Let for example, consider multiplying a python list by 2. Here is what we’ll get"
      ]
    },
    {
      "cell_type": "code",
      "metadata": {
        "id": "vKmkFh2vjhww",
        "colab_type": "code",
        "colab": {}
      },
      "source": [
        "py_arr = [1,2,3] * 2\n",
        "# Generates [1,2,3,1,2,3]"
      ],
      "execution_count": 0,
      "outputs": []
    },
    {
      "cell_type": "markdown",
      "metadata": {
        "id": "S7HO25rtjhw7",
        "colab_type": "text"
      },
      "source": [
        "Whereas a numpy array produces the output, which each array elements are multiplied by 2"
      ]
    },
    {
      "cell_type": "code",
      "metadata": {
        "id": "RbzUKf0vjhw9",
        "colab_type": "code",
        "colab": {}
      },
      "source": [
        "np_arr = np.array([1,2,3]) * 2\n",
        "# Generates [2,4,6]"
      ],
      "execution_count": 0,
      "outputs": []
    },
    {
      "cell_type": "markdown",
      "metadata": {
        "id": "GHOkIc5RjhxI",
        "colab_type": "text"
      },
      "source": [
        "Similarly, we can also do other mathematical operations on numpy arrays like addition, subtractions and divisions"
      ]
    },
    {
      "cell_type": "code",
      "metadata": {
        "id": "xidP32x7jhxK",
        "colab_type": "code",
        "colab": {}
      },
      "source": [
        "np_arr = np.array([1,2,3]) + 2\n",
        "# Generates [3,4,5]"
      ],
      "execution_count": 0,
      "outputs": []
    },
    {
      "cell_type": "markdown",
      "metadata": {
        "id": "buYkHPMxjhxQ",
        "colab_type": "text"
      },
      "source": [
        "A Multi dimensional matrix operations are as easy as we do using two numbers"
      ]
    },
    {
      "cell_type": "code",
      "metadata": {
        "id": "6xOO70unjhxT",
        "colab_type": "code",
        "colab": {}
      },
      "source": [
        "np_arr1 = np.array([[1,2,3],[4,5,6]])\n",
        "np_arr2 = np.array([[1,2,3],[4,5,6]])\n",
        "np_arr3 = np_arr1 * np_arr2\n",
        "#Generates\n",
        "# [[ 1  4  9]\n",
        "# [16 25 36]]\n",
        "np_arr3 = np_arr1 + np_arr2\n",
        "#Generates\n",
        "# [[ 2  4  6]\n",
        "# [ 8 10 12]]"
      ],
      "execution_count": 0,
      "outputs": []
    },
    {
      "cell_type": "markdown",
      "metadata": {
        "id": "xfli2PzTjhxd",
        "colab_type": "text"
      },
      "source": [
        "NumPy built-in mathematical functions also allow us to perform complex mathematical operations like sqrt, mean and median."
      ]
    },
    {
      "cell_type": "code",
      "metadata": {
        "id": "J30IImaEjhxf",
        "colab_type": "code",
        "colab": {}
      },
      "source": [
        "np.sqrt(np_arr1)\n",
        "#generates\n",
        "# [1.         1.41421356 1.73205081]\n",
        "# [2.         2.23606798 2.44948974]]\n",
        "np.mean(np_arr1) #generates 3.5\n",
        "np.median(np_arr1) #generates 3.5"
      ],
      "execution_count": 0,
      "outputs": []
    },
    {
      "cell_type": "markdown",
      "metadata": {
        "id": "pRjQG7INjhxm",
        "colab_type": "text"
      },
      "source": [
        "There are additional in-built members functions to get more details of the arrays, including sum, min and max"
      ]
    },
    {
      "cell_type": "code",
      "metadata": {
        "id": "KlUa7j6zjhxo",
        "colab_type": "code",
        "colab": {}
      },
      "source": [
        "np_arr1.sum()  # 21\n",
        "np_arr1.min()  # 1\n",
        "np_arr1.max()  # 6"
      ],
      "execution_count": 0,
      "outputs": []
    },
    {
      "cell_type": "markdown",
      "metadata": {
        "id": "EzQR3NVPjhxv",
        "colab_type": "text"
      },
      "source": [
        "### 4. Finding Elements in NumPy array\n",
        "While working with data sets there will be times when we need to find specific data from the available data set. Though NumPy provides multiple functions for the same, three of them will be used more often than others. They are where, nonzeroand count_nonzero.  \n",
        "Where and nonzero functions returns the index associated with the True statement. for example"
      ]
    },
    {
      "cell_type": "code",
      "metadata": {
        "id": "0evN-jvmjhxy",
        "colab_type": "code",
        "colab": {}
      },
      "source": [
        "np_arr = np.array([1,2,0,4,5])\n",
        "find = np.where(np_arr > 2)\n",
        "#returns [3,4]"
      ],
      "execution_count": 0,
      "outputs": []
    },
    {
      "cell_type": "markdown",
      "metadata": {
        "id": "I5i-Xmmzjhx_",
        "colab_type": "text"
      },
      "source": [
        "and"
      ]
    },
    {
      "cell_type": "code",
      "metadata": {
        "id": "lQB1DpuZjhyD",
        "colab_type": "code",
        "colab": {}
      },
      "source": [
        "np_arr = np.array([1,2,0,4,5])\n",
        "find = np.nonzero(np_arr)\n",
        "# return [0,1,3,4]"
      ],
      "execution_count": 0,
      "outputs": []
    },
    {
      "cell_type": "markdown",
      "metadata": {
        "id": "hfDBdz49jhyN",
        "colab_type": "text"
      },
      "source": [
        "And finally one can count the number of non zero elements in a numpy array by using count_nonzero(...) function"
      ]
    },
    {
      "cell_type": "code",
      "metadata": {
        "id": "c9cdgJkEjhyQ",
        "colab_type": "code",
        "colab": {}
      },
      "source": [
        "n_arr = np.array([1,2,3,0,3,0,2,0,0,2])\n",
        "np.count_nonzero(n_arr) \n",
        "# returns 6"
      ],
      "execution_count": 0,
      "outputs": []
    },
    {
      "cell_type": "markdown",
      "metadata": {
        "id": "iDO_40s6jhya",
        "colab_type": "text"
      },
      "source": [
        "These methods are very useful in cases like calculating the sparsity or the density of a matrix.\n",
        "The final method which has its own usage in machine learning is to find the shape of the NumPy array. This is done using .shape . For example"
      ]
    },
    {
      "cell_type": "code",
      "metadata": {
        "id": "d4KonKhQjhyb",
        "colab_type": "code",
        "colab": {}
      },
      "source": [
        "n_arr = np.array([1,2,3,0,3,0,2,0,0,2])\n",
        "n_arr.shape\n",
        "# Generates => (10,)\n",
        "n_arr = np.array([[1,2],[3,0]])\n",
        "# Generates => (2,2)"
      ],
      "execution_count": 0,
      "outputs": []
    },
    {
      "cell_type": "markdown",
      "metadata": {
        "id": "lwXkwapcjhyi",
        "colab_type": "text"
      },
      "source": [
        "*Copyright &copy; Avinash.  All rights reserved.*"
      ]
    }
  ]
}